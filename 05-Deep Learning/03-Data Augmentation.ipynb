{
 "cells": [
  {
   "cell_type": "code",
   "execution_count": 1,
   "metadata": {},
   "outputs": [],
   "source": [
    "from tensorflow.python.keras.applications import ResNet50\n",
    "from tensorflow.python.keras.models import Sequential\n",
    "from tensorflow.python.keras.layers import Dense, Flatten, GlobalAveragePooling2D"
   ]
  },
  {
   "cell_type": "code",
   "execution_count": 2,
   "metadata": {},
   "outputs": [
    {
     "name": "stdout",
     "output_type": "stream",
     "text": [
      "WARNING:tensorflow:From /home/dnano/.local/lib/python3.6/site-packages/tensorflow/python/ops/resource_variable_ops.py:435: colocate_with (from tensorflow.python.framework.ops) is deprecated and will be removed in a future version.\n",
      "Instructions for updating:\n",
      "Colocations handled automatically by placer.\n"
     ]
    }
   ],
   "source": [
    "num_classes = 2\n",
    "resnet_weights_path = './data/resnet50_weights_tf_dim_ordering_tf_kernels_notop.h5'\n",
    "\n",
    "my_new_model = Sequential()\n",
    "my_new_model.add(ResNet50(include_top=False, pooling='avg', weights=resnet_weights_path))\n",
    "my_new_model.add(Dense(num_classes, activation='softmax'))\n",
    "\n",
    "my_new_model.layers[0].trainabel = False\n",
    "my_new_model.compile(optimizer='sgd', loss='categorical_crossentropy', metrics=['accuracy'])"
   ]
  },
  {
   "cell_type": "code",
   "execution_count": 7,
   "metadata": {},
   "outputs": [
    {
     "name": "stdout",
     "output_type": "stream",
     "text": [
      "Found 72 images belonging to 2 classes.\n",
      "Found 20 images belonging to 2 classes.\n",
      "Epoch 1/2\n",
      "1/1 [==============================] - 11s 11s/step - loss: 0.7002 - acc: 0.8000\n",
      "18/18 [==============================] - 40s 2s/step - loss: 0.3109 - acc: 0.8472 - val_loss: 0.7002 - val_acc: 0.8000\n",
      "Epoch 2/2\n",
      "1/1 [==============================] - 2s 2s/step - loss: 0.3143 - acc: 0.8500\n",
      "18/18 [==============================] - 29s 2s/step - loss: 0.2323 - acc: 0.8889 - val_loss: 0.3143 - val_acc: 0.8500\n"
     ]
    },
    {
     "data": {
      "text/plain": [
       "<tensorflow.python.keras.callbacks.History at 0x7ea21f7a58>"
      ]
     },
     "execution_count": 7,
     "metadata": {},
     "output_type": "execute_result"
    }
   ],
   "source": [
    "from tensorflow.python.keras.applications.resnet50 import preprocess_input\n",
    "from tensorflow.python.keras.preprocessing.image import ImageDataGenerator\n",
    "\n",
    "image_size = 224\n",
    "data_generator_with_aug = ImageDataGenerator(preprocessing_function=preprocess_input,\n",
    "                                             horizontal_flip=True,\n",
    "                                             width_shift_range=0.2, \n",
    "                                             height_shift_range=0.2)\n",
    "\n",
    "train_generator = data_generator_with_aug.flow_from_directory('./data/rural_and_urban_photos/train',\n",
    "                                                              target_size=(image_size, image_size),\n",
    "                                                              batch_size=4,  \n",
    "                                                              class_mode='categorical')# 由于内存不够，试到4可以跑通。\n",
    "\n",
    "data_generator_no_aug = ImageDataGenerator(preprocessing_function=preprocess_input)\n",
    "validation_generator = data_generator_no_aug.flow_from_directory('./data/rural_and_urban_photos/val',\n",
    "                                                                 target_size=(image_size, image_size),\n",
    "                                                                 class_mode='categorical')\n",
    "\n",
    "my_new_model.fit_generator(train_generator,\n",
    "                           steps_per_epoch=3,\n",
    "                           epochs=2,\n",
    "                           validation_data=validation_generator,\n",
    "                           validation_steps=1)"
   ]
  },
  {
   "cell_type": "markdown",
   "metadata": {},
   "source": [
    "#### 为什么训练集中有数据扩充，二验证集中没有？\n",
    "我们的目的是在训练模型时进行数据的扩充，并不打算改变我们要测试的模型。这样也可以对有无数据扩充的情况进行比较。  "
   ]
  },
  {
   "cell_type": "code",
   "execution_count": null,
   "metadata": {},
   "outputs": [],
   "source": []
  }
 ],
 "metadata": {
  "kernelspec": {
   "display_name": "Python 3",
   "language": "python",
   "name": "python3"
  },
  "language_info": {
   "codemirror_mode": {
    "name": "ipython",
    "version": 3
   },
   "file_extension": ".py",
   "mimetype": "text/x-python",
   "name": "python",
   "nbconvert_exporter": "python",
   "pygments_lexer": "ipython3",
   "version": "3.6.7"
  }
 },
 "nbformat": 4,
 "nbformat_minor": 2
}
